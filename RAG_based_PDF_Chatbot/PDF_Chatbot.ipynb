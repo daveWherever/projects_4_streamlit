{
 "cells": [
  {
   "metadata": {
    "jupyter": {
     "is_executing": true
    }
   },
   "cell_type": "code",
   "source": [
    "# The code is based on the following tutorial: https://blog.gopenai.com/building-a-multi-pdf-rag-chatbot-langchain-streamlit-with-code-d21d0a1cf9e5\n",
    "# Only thing is, that langgraph was used instead of langchain for the agentic programming"
   ],
   "id": "de1adc0bd523322c",
   "outputs": [],
   "execution_count": null
  },
  {
   "cell_type": "code",
   "id": "initial_id",
   "metadata": {
    "collapsed": true,
    "ExecuteTime": {
     "end_time": "2024-11-13T13:31:12.543841Z",
     "start_time": "2024-11-13T13:31:11.135877Z"
    }
   },
   "source": [
    "import os\n",
    "import dotenv\n",
    "dotenv.load_dotenv()\n",
    "\n",
    "from PyPDF2 import PdfReader\n",
    "\n",
    "from langgraph.checkpoint.memory import MemorySaver\n",
    "memory = MemorySaver()\n",
    "\n",
    "from langchain.text_splitter import RecursiveCharacterTextSplitter\n",
    "from langchain_community.vectorstores import FAISS\n",
    "from langchain_openai import ChatOpenAI, OpenAIEmbeddings\n",
    "from langchain.tools.retriever import create_retriever_tool\n",
    "from langgraph.prebuilt import ToolNode, tools_condition\n",
    "\n",
    "from langchain_core.messages import SystemMessage, HumanMessage"
   ],
   "outputs": [],
   "execution_count": 1
  },
  {
   "metadata": {
    "ExecuteTime": {
     "end_time": "2024-11-13T13:31:12.549364Z",
     "start_time": "2024-11-13T13:31:12.545034Z"
    }
   },
   "cell_type": "code",
   "source": [
    "def pdf_reader(pdf_doc):\n",
    "    text = \"\"\n",
    "    for pdf in pdf_doc:\n",
    "        pdf_reader = PdfReader(pdf)\n",
    "        for page in pdf_reader.pages:\n",
    "            text += page.extract_text()\n",
    "    return text\n",
    "\n",
    "def get_chunks(text):\n",
    "    text_splitter = RecursiveCharacterTextSplitter(chunk_size=1000, chunk_overlap=200)\n",
    "    chunks = text_splitter.split_text(text)\n",
    "    return chunks"
   ],
   "id": "a780202af60e9702",
   "outputs": [],
   "execution_count": 2
  },
  {
   "metadata": {
    "ExecuteTime": {
     "end_time": "2024-11-13T13:31:12.627227Z",
     "start_time": "2024-11-13T13:31:12.550560Z"
    }
   },
   "cell_type": "code",
   "source": [
    "embeddings = OpenAIEmbeddings()\n",
    "\n",
    "def vector_store(text_chunks):\n",
    "    vector_store = FAISS.from_texts(text_chunks, embedding=embeddings)\n",
    "    vector_store.save_local(\"faiss_db\")"
   ],
   "id": "a15d5509633a02b6",
   "outputs": [],
   "execution_count": 3
  },
  {
   "metadata": {
    "ExecuteTime": {
     "end_time": "2024-11-13T13:31:50.088092Z",
     "start_time": "2024-11-13T13:31:12.630013Z"
    }
   },
   "cell_type": "code",
   "source": [
    "text = pdf_reader([\"scm-and-adv-planning.pdf\",\n",
    "                   \"SCP_01_Overview.pdf\",\n",
    "                   \"SCP_02_SC_Analysis.pdf\",\n",
    "                   \"SCP_03_Basics_of_Modelling.pdf\",\n",
    "                   \"SCP_04_Advanced_Planning.pdf\",\n",
    "                   \"SCP_05_Structure_of_APS.pdf\",\n",
    "                   \"SCP_07_Demand_Planning.pdf\"])\n",
    "chunks = get_chunks(text)\n",
    "vector_store(chunks)"
   ],
   "id": "6fdebbe5411b060e",
   "outputs": [],
   "execution_count": 4
  },
  {
   "metadata": {},
   "cell_type": "markdown",
   "source": "Defining tools",
   "id": "5aaa27b88a2ce141"
  },
  {
   "metadata": {
    "ExecuteTime": {
     "end_time": "2024-11-13T13:31:50.112280Z",
     "start_time": "2024-11-13T13:31:50.089638Z"
    }
   },
   "cell_type": "code",
   "source": [
    "db_tool = FAISS.load_local(\"faiss_db\", embeddings, allow_dangerous_deserialization=True)\n",
    "retriever = db_tool.as_retriever()\n",
    "retriever_tool = create_retriever_tool(retriever, \"pdf_extractor\", \"This tool is to give answer to queries from the pdf\")\n",
    "tool = [retriever_tool]"
   ],
   "id": "3fac1e6baa27365e",
   "outputs": [],
   "execution_count": 5
  },
  {
   "metadata": {
    "ExecuteTime": {
     "end_time": "2024-11-13T13:31:50.283618Z",
     "start_time": "2024-11-13T13:31:50.114618Z"
    }
   },
   "cell_type": "code",
   "source": [
    "from typing import Annotated\n",
    "from typing_extensions import TypedDict\n",
    "\n",
    "from langgraph.graph import StateGraph, START, END\n",
    "from langgraph.graph.message import add_messages\n",
    "\n",
    "class State(TypedDict):\n",
    "    messages: Annotated[list, add_messages]\n",
    "\n",
    "llm = ChatOpenAI()\n",
    "llm_with_tools = llm.bind_tools(tool)\n",
    "\n",
    "def chatbot(state: State):\n",
    "    return {\"messages\": [llm_with_tools.invoke(state[\"messages\"])]}"
   ],
   "id": "5045fb6a03a272d6",
   "outputs": [],
   "execution_count": 6
  },
  {
   "metadata": {
    "ExecuteTime": {
     "end_time": "2024-11-13T13:31:50.293632Z",
     "start_time": "2024-11-13T13:31:50.284693Z"
    }
   },
   "cell_type": "code",
   "source": [
    "graph_builder = StateGraph(State)\n",
    "\n",
    "tool_node = ToolNode(tools=tool)\n",
    "\n",
    "graph_builder.add_node(\"chatbot\", chatbot)\n",
    "graph_builder.add_node(\"tools\", tool_node)\n",
    "\n",
    "graph_builder.add_conditional_edges(\"chatbot\", tools_condition)\n",
    "\n",
    "graph_builder.add_edge(\"tools\", \"chatbot\")\n",
    "graph_builder.add_edge(START, \"chatbot\")"
   ],
   "id": "3ec022a576fcfc65",
   "outputs": [
    {
     "data": {
      "text/plain": [
       "<langgraph.graph.state.StateGraph at 0x7fe4c375fc50>"
      ]
     },
     "execution_count": 7,
     "metadata": {},
     "output_type": "execute_result"
    }
   ],
   "execution_count": 7
  },
  {
   "metadata": {
    "ExecuteTime": {
     "end_time": "2024-11-13T13:31:50.304283Z",
     "start_time": "2024-11-13T13:31:50.295147Z"
    }
   },
   "cell_type": "code",
   "source": "graph = graph_builder.compile(checkpointer=memory)",
   "id": "ae3158035fd877ed",
   "outputs": [],
   "execution_count": 8
  },
  {
   "metadata": {
    "ExecuteTime": {
     "end_time": "2024-11-13T13:31:50.470017Z",
     "start_time": "2024-11-13T13:31:50.305691Z"
    }
   },
   "cell_type": "code",
   "source": [
    "from IPython.display import Image, display\n",
    "\n",
    "try:\n",
    "    display(Image(graph.get_graph().draw_mermaid_png()))\n",
    "except Exception:\n",
    "    # This requires some extra dependencies and is optional\n",
    "    pass"
   ],
   "id": "1d5fab5138c3195b",
   "outputs": [
    {
     "data": {
      "image/jpeg": "[encoded data removed]",
      "text/plain": [
       "<IPython.core.display.Image object>"
      ]
     },
     "metadata": {},
     "output_type": "display_data"
    }
   ],
   "execution_count": 9
  },
  {
   "metadata": {
    "ExecuteTime": {
     "end_time": "2024-11-13T13:31:50.477583Z",
     "start_time": "2024-11-13T13:31:50.472400Z"
    }
   },
   "cell_type": "code",
   "source": "config = {\"configurable\": {\"thread_id\": \"1\"}}",
   "id": "c78d2805a3949ee4",
   "outputs": [],
   "execution_count": 10
  },
  {
   "metadata": {},
   "cell_type": "markdown",
   "source": "Trying to add a system message",
   "id": "c48f2376dde333cf"
  },
  {
   "metadata": {
    "ExecuteTime": {
     "end_time": "2024-11-13T13:31:50.516021Z",
     "start_time": "2024-11-13T13:31:50.482629Z"
    }
   },
   "cell_type": "code",
   "source": [
    "system_instructions = SystemMessage(content='''You are a PDF-based assistant with access to multiple PDFs provided by the user. Answer questions and provide information based strictly on the contents of these PDFs. Your responses must only contain verified information from the provided documents\n",
    "    - If the requested information is not present in any of the PDFs, clearly state: 'The information is not available in the provided PDFs.'\n",
    "    - When providing information, specify the document title (if available) and the exact page number or section to help the user locate the source. \n",
    "    - Avoid generalizations or assumptions beyond what is explicitly stated in the PDFs. \n",
    "    - Respond concisely, with clear and accurate answers based on the documents.\n",
    "    - The answers should also be provided in bullet points''')"
   ],
   "id": "1bde475d066ebde4",
   "outputs": [],
   "execution_count": 11
  },
  {
   "metadata": {
    "ExecuteTime": {
     "end_time": "2024-11-13T13:32:28.159931Z",
     "start_time": "2024-11-13T13:32:28.156707Z"
    }
   },
   "cell_type": "code",
   "source": [
    "user_input = \"What is the difference between structural and functional attributes?\"\n",
    "\n",
    "messages = [system_instructions, (\"user\", user_input)]"
   ],
   "id": "26ddd0678fc751ec",
   "outputs": [],
   "execution_count": 12
  },
  {
   "metadata": {
    "ExecuteTime": {
     "end_time": "2024-11-13T13:32:32.879371Z",
     "start_time": "2024-11-13T13:32:28.977726Z"
    }
   },
   "cell_type": "code",
   "source": [
    "events = graph.stream(\n",
    "    {\"messages\": messages}, config, stream_mode=\"values\"\n",
    ")\n",
    "for event in events:\n",
    "    event[\"messages\"][-1].pretty_print()"
   ],
   "id": "65c19375ce0bcf9e",
   "outputs": [
    {
     "name": "stdout",
     "output_type": "stream",
     "text": [
      "================================\u001B[1m Human Message \u001B[0m=================================\n",
      "\n",
      "What is the difference between structural and functional attributes?\n",
      "==================================\u001B[1m Ai Message \u001B[0m==================================\n",
      "Tool Calls:\n",
      "  pdf_extractor (call_42WmPsfOzMVXHWr0pxidi3Zf)\n",
      " Call ID: call_42WmPsfOzMVXHWr0pxidi3Zf\n",
      "  Args:\n",
      "    query: difference between structural and functional attributes\n",
      "=================================\u001B[1m Tool Message \u001B[0m=================================\n",
      "Name: pdf_extractor\n",
      "\n",
      "entity, member, or location of a supply chain as well as “structural” attributes\n",
      "describing the relations among its entities.\n",
      "3.2 Functional Attributes\n",
      "Functional attributes (see Tab. 3.1) of an entity are grouped into the four\n",
      "categories\n",
      "•procurement type,\n",
      "•production type,\n",
      "•distribution type and\n",
      "•sales type.\n",
      "Theprocurement type relates to the number (few...many) and type of\n",
      "products to be procured, the latter one ranging from standard products to\n",
      "highly speciﬁc products requiring special product know-how or production\n",
      "process know-how (or equipment). The following attribute depicts the sourc-\n",
      "ing type , better known by its properties: single sourcing, double sourcing and\n",
      "multiple sourcing. Single sourcing exists if there is a unique supplier for a\n",
      "certain product to be procured. In double sourcing there are two suppliers,\n",
      "each fulﬁlling a portion of demand for the product to be procured (e.g. 60%\n",
      "of the demand is fulﬁlled by the main supplier, 40 % by the second supplier).\n",
      "\n",
      "Structural attributes:\n",
      "show relations between members  of an SC\n",
      "are grouped into the 2 categories „topography of an SC“ and „integration and \n",
      "coordination“Chap. 3 19 / 25\n",
      " Prof. Dr. H. Meyr   -   Supply Chain Planning and Advanced Planning Systems 1   -   WS 24/25 \n",
      "Functional attributes – category „Procurement type“\n",
      "number of products procured\n",
      "type of products procured \n",
      "sourcing type\n",
      "flexibility of suppliers\n",
      "lead time of suppliers\n",
      "reliability of suppliers\n",
      "materials‘ life cycleAttributes Possible contents\n",
      "few … many\n",
      "standard products … highly specific \n",
      "products\n",
      "single, double … multiple sourcing\n",
      "amounts fixed, amounts within \n",
      "bounds specified by contracts … \n",
      "freely available\n",
      "short … long\n",
      "reliable … unreliable\n",
      "short ... longChap. 3 20 / 25\n",
      " Prof. Dr. H. Meyr   -   Supply Chain Planning and Advanced Planning Systems 1   -   WS 24/25 \n",
      "Functional attributes – category „Production type“\n",
      "organisation of the production \n",
      "process\n",
      "repetition of operations\n",
      "\n",
      "described in the case study in Chap. 21. Table 3.4 summarizes the proper-ties of that type so that a direct comparison with the consumer goods type\n",
      "(Table 3.3) is possible. Again, functional attributes are only shown for the\n",
      "computer manufacturing entity, whereas structural attributes characterizethe interrelations between diﬀerent entities of the supply chain.\n",
      "Sales Type Computers have a strictly convergent BOM. The system unit is\n",
      "assembled from several components like the housing, the system board, the\n",
      "Central Processing Unit (CPU), hard disk(s), a sound card etc. The degree\n",
      "of customization varies between the two extremes\n",
      "•standard products withﬁxed conﬁgurations, i.e. only some predeﬁned\n",
      "types are oﬀered. Customers merely can choose between these types, but\n",
      "no changes or extensions (at least at the system unit) are possible.\n",
      "•customized products which are completely conﬁgurable . In this case the\n",
      "customer speciﬁes which components he wants to get from what supplier\n",
      "\n",
      "serial structure is given. In a convergent structure, several input products are\n",
      "assembled (or mixed) to form a single output product. Whereas in a diver-\n",
      "gent structure, a single input product is disassembled (or split) and several\n",
      "output products are the result. Of course, a structure of a mixture type –\n",
      "combining both convergent and divergent properties – is also possible.\n",
      "Apart from selling tangible goods the portion of service operations is con-\n",
      "stantly growing (e.g. the training of a customer’s personnel).\n",
      "3.3 Structural Attributes\n",
      "Structural attributes (see Table 3.2) of a supply chain are grouped into the\n",
      "two categories\n",
      "•topography of a supply chain and\n",
      "•integration and coordination.\n",
      "Table 3.2. Structural attributes of a supply chain typology\n",
      "Structural attributes\n",
      "Categories Attributes\n",
      "Topography of a supply chain network structure\n",
      "degree of globalization\n",
      "location of decoupling point(s)\n",
      "major constraints\n",
      "Integration and coordination legal position\n",
      "balance of power\n",
      "==================================\u001B[1m Ai Message \u001B[0m==================================\n",
      "\n",
      "The difference between structural and functional attributes based on the provided document is:\n",
      "\n",
      "- **Structural Attributes:**\n",
      "  - Show relations between members of a supply chain.\n",
      "  - Grouped into two categories: \"topography of a supply chain\" and \"integration and coordination.\"\n",
      "  - Examples of structural attributes include the degree of globalization, location of decoupling point(s), major constraints, legal position, and balance of power.\n",
      "\n",
      "- **Functional Attributes:**\n",
      "  - Grouped into four categories: procurement type, production type, distribution type, and sales type.\n",
      "  - Examples of functional attributes include the number and type of products procured, sourcing type, flexibility of suppliers, lead time of suppliers, reliability of suppliers, organization of the production process, repetition of operations, and customization options for products.\n"
     ]
    }
   ],
   "execution_count": 13
  },
  {
   "metadata": {
    "ExecuteTime": {
     "end_time": "2024-11-13T11:02:14.852991Z",
     "start_time": "2024-11-13T11:02:10.690864Z"
    }
   },
   "cell_type": "code",
   "source": [
    "user_input = \"A company produces the final items A and B. To produce 1 unit of final item A, 2 units of pre-product C and 3 units of pre-product D are required. For the production of 1 unit of pre-product D, 2 units of pre-product E are necessary. To produce 1 unit of final item B, 1 unit of pre-product C and 2 units of pre-product E are required. Lead times for the final items and for all pre-products are one week, each. Illustrate the bill of materials using a Gozinto-Graph. Also denominate the echelons of the bill of materials (Dispositionsstufen).\"\n",
    "\n",
    "# The config is the **second positional argument** to stream() or invoke()!\n",
    "events = graph.stream(\n",
    "    {\"messages\": [(\"user\", user_input)]}, config, stream_mode=\"values\"\n",
    ")\n",
    "for event in events:\n",
    "    event[\"messages\"][-1].pretty_print()"
   ],
   "id": "5c7c388aad2a5851",
   "outputs": [
    {
     "name": "stdout",
     "output_type": "stream",
     "text": [
      "================================\u001B[1m Human Message \u001B[0m=================================\n",
      "\n",
      "A company produces the final items A and B. To produce 1 unit of final item A, 2 units of pre-product C and 3 units of pre-product D are required. For the production of 1 unit of pre-product D, 2 units of pre-product E are necessary. To produce 1 unit of final item B, 1 unit of pre-product C and 2 units of pre-product E are required. Lead times for the final items and for all pre-products are one week, each. Illustrate the bill of materials using a Gozinto-Graph. Also denominate the echelons of the bill of materials (Dispositionsstufen).\n",
      "==================================\u001B[1m Ai Message \u001B[0m==================================\n",
      "\n",
      "I will create a Gozinto-Graph to illustrate the bill of materials based on the information provided for the production of final items A and B. Additionally, I will denote the echelons (Dispositionsstufen) of the bill of materials.\n",
      "A Gozinto-Graph representation of the bill of materials for the production of final items A and B:\n",
      "\n",
      "- **Echelons (Dispositionsstufen)**:\n",
      "  - **Level 1**: Final items A and B\n",
      "  - **Level 2**: Pre-product C and Pre-product D\n",
      "  - **Level 3**: Pre-product E\n",
      "\n",
      "Gozinto-Graph:\n",
      "```\n",
      "    Final Item A           Final Item B\n",
      "          |                       |\n",
      "     Pre-product C          Pre-product C\n",
      "          |                       |\n",
      "     Pre-product D          Pre-product E\n",
      "          |\n",
      "     Pre-product E\n",
      "``` \n",
      "\n",
      "In this Gozinto-Graph:\n",
      "- Final item A requires Pre-product C and Pre-product D.\n",
      "- Pre-product D requires Pre-product E.\n",
      "- Final item B requires Pre-product C and Pre-product E.\n"
     ]
    }
   ],
   "execution_count": 27
  },
  {
   "metadata": {
    "ExecuteTime": {
     "end_time": "2024-10-30T12:01:58.402385Z",
     "start_time": "2024-10-30T12:01:58.396617Z"
    }
   },
   "cell_type": "code",
   "source": "snapshot = graph.get_state(config)",
   "id": "e267dd96b702e590",
   "outputs": [],
   "execution_count": 87
  },
  {
   "metadata": {
    "ExecuteTime": {
     "end_time": "2024-11-13T13:34:52.962750Z",
     "start_time": "2024-11-13T13:34:49.407009Z"
    }
   },
   "cell_type": "code",
   "source": [
    "user_input = \"What is a polycentric supply chain?\"\n",
    "\n",
    "# The config is the **second positional argument** to stream() or invoke()!\n",
    "events = graph.stream(\n",
    "    {\"messages\": [(\"user\", user_input)]}, config, stream_mode=\"values\"\n",
    ")\n",
    "for event in events:\n",
    "    event[\"messages\"][-1].pretty_print()"
   ],
   "id": "dd5acec8d8b9830e",
   "outputs": [
    {
     "name": "stdout",
     "output_type": "stream",
     "text": [
      "================================\u001B[1m Human Message \u001B[0m=================================\n",
      "\n",
      "What is a polycentric supply chain?\n",
      "==================================\u001B[1m Ai Message \u001B[0m==================================\n",
      "Tool Calls:\n",
      "  pdf_extractor (call_2j5EIZg4KqGgkMpPkOdyIUy9)\n",
      " Call ID: call_2j5EIZg4KqGgkMpPkOdyIUy9\n",
      "  Args:\n",
      "    query: polycentric supply chain\n",
      "=================================\u001B[1m Tool Message \u001B[0m=================================\n",
      "Name: pdf_extractor\n",
      "\n",
      "of the supply chain over multiple years is considered. The ”cradle to grave”\n",
      "approach is thus not only geographical but also temporal. Furthermore, it in-\n",
      "tegrates the strategic capital budgeting decisions with the master planning.\n",
      "It considers purchasing, manufacturing, distribution, and transportation cost\n",
      "and capacities as well as the customer demand planning, which are geograph-\n",
      "ically or organizationally dispersed components of a supply chain at a par-\n",
      "ticular point in time. It also considers the full life cycle of diﬀerent products,\n",
      "product portfolios, supply chain resources, and mergers and acquisitions that\n",
      "are temporally or organizationally dispersed components. The holistic view of\n",
      "the supply chain requires resolving the tradeoﬀs between the objectives and\n",
      "performance measures of the various agents and organizations in the supply\n",
      "chain.\n",
      "Supply chains in virtually every industry are becoming increasingly global,\n",
      "\n",
      "chain can act as a focal ﬁrm. On the other hand, we have a supply chain of\n",
      "equals, named a polycentric supply chain.\n",
      "As regards information ﬂows, several attributes may be considered. As an\n",
      "example consider the direction of coordination . It may be purely vertical or\n",
      "purely horizontal or a mixture of both. Vertical information ﬂows comply with\n",
      "hierarchical planning. On the other hand, horizontal ﬂows may exist betweentwo adjacent entities within the supply chain which can easily and quickly\n",
      "make use of local information (e. g. to overcome the eﬀects of a breakdown of\n",
      "a machine). Also the type of information exchanged between members inﬂu-\n",
      "ences planning (e.g. some entities may hesitate to reveal their manufacturing\n",
      "costs but are willing to provide information about available capacities).\n",
      "While attributes describing a production type are generally accepted and\n",
      "validated today, a typology of the service sector is still in its infancy (for\n",
      "\n",
      "have been promoted or left for other organizations. This implies that the newdesign team may have very little experience in model building and model\n",
      "solving.\n",
      "To provide proper decision support for the strategic design of world-class\n",
      "supply chains, one has to recognize that supply chains have the following\n",
      "fundamental characteristics: they are holistic, global, and stochastic.\n",
      "A holistic view of a supply chain does not focus exclusively on a single\n",
      "aspect of the supply chain performance such as inventory or direct labor cost,\n",
      "but takes an integrated and comprehensive view of the whole supply chain\n",
      "from the raw material suppliers, through the various transformation facilities\n",
      "and transportation channels, to the ﬁnal customers. In addition, the evolution6 Strategic Network Planning 119\n",
      "of the supply chain over multiple years is considered. The ”cradle to grave”\n",
      "approach is thus not only geographical but also temporal. Furthermore, it in-\n",
      "\n",
      "ally extend over several countries, sometimes even over multiple continents.\n",
      "Since products are made to stock, the decoupling point of the manufacturer\n",
      "is settled in CWs or RWs, from which goods are delivered to order. Whileprocurement is quite unproblematic, the limited capacity of the ﬂow lines is\n",
      "the major constraint of the whole supply chain.\n",
      "Integration and Coordination Because of the low diﬀerentiation the bal-\n",
      "ance of power is shifted towards the customers, i.e. the retailers. As regards\n",
      "the consumer goods manufacturing entity, there is a strong need for intra-\n",
      "organizational coordination. Several organizational units of the same com-\n",
      "pany (e. g. order management, sales, manufacturing, procurement) have to\n",
      "exchange information horizontally. Furthermore, the central planning unit\n",
      "has to coordinate the bulk of decentral units by sending directives and gath-\n",
      "ering feedback, thus inducing heavy vertical information traﬃc. Since all of\n",
      "==================================\u001B[1m Ai Message \u001B[0m==================================\n",
      "\n",
      "In the context of supply chains, a polycentric supply chain is defined as follows:\n",
      "\n",
      "- In a polycentric supply chain, there is a supply chain of equals where no single firm acts as a focal firm.\n",
      "- Information flows within a polycentric supply chain can be purely vertical, purely horizontal, or a mixture of both.\n",
      "- Vertical information flows align with hierarchical planning, while horizontal flows exist between adjacent entities within the supply chain to quickly utilize local information.\n",
      "- The type and direction of information exchanged between members influence planning and coordination within a polycentric supply chain.\n"
     ]
    }
   ],
   "execution_count": 14
  },
  {
   "metadata": {
    "ExecuteTime": {
     "end_time": "2024-10-30T11:53:00.485186Z",
     "start_time": "2024-10-30T11:53:00.482192Z"
    }
   },
   "cell_type": "code",
   "source": [
    "existing_messages = snapshot.values[\"messages\"][-1]\n",
    "existing_messages.tool_calls"
   ],
   "id": "f6328840b0d2d946",
   "outputs": [
    {
     "data": {
      "text/plain": [
       "[]"
      ]
     },
     "execution_count": 77,
     "metadata": {},
     "output_type": "execute_result"
    }
   ],
   "execution_count": 77
  },
  {
   "metadata": {},
   "cell_type": "code",
   "outputs": [],
   "execution_count": null,
   "source": "",
   "id": "488f165c97820561"
  }
 ],
 "metadata": {
  "kernelspec": {
   "display_name": "Python 3",
   "language": "python",
   "name": "python3"
  },
  "language_info": {
   "codemirror_mode": {
    "name": "ipython",
    "version": 2
   },
   "file_extension": ".py",
   "mimetype": "text/x-python",
   "name": "python",
   "nbconvert_exporter": "python",
   "pygments_lexer": "ipython2",
   "version": "2.7.6"
  }
 },
 "nbformat": 4,
 "nbformat_minor": 5
}
